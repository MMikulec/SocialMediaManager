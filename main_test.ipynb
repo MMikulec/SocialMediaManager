{
 "cells": [
  {
   "cell_type": "code",
   "execution_count": null,
   "id": "initial_id",
   "metadata": {
    "collapsed": true
   },
   "outputs": [],
   "source": [
    "import pandas as pd\n",
    "from rich import print\n",
    "from rich.table import Table\n",
    "from rich.console import Console\n",
    "\n",
    "# Initialize Rich console\n",
    "console = Console()\n",
    "\n",
    "# Replace 'your_file.xlsx' with the path to your Excel file\n",
    "excel_file = 'plan.xlsx'\n",
    "df = pd.read_excel(excel_file)\n",
    "print(\"EXCEL read.\")"
   ]
  },
  {
   "cell_type": "code",
   "outputs": [],
   "source": [
    "# Display the first few rows of the dataframe using Rich\n",
    "table = Table(show_header=True, header_style=\"bold magenta\")\n",
    "for column in df.columns:\n",
    "    table.add_column(column)\n",
    "for _, row in df.head().iterrows():\n",
    "    table.add_row(*[str(item) for item in row])\n",
    "console.print(table)\n",
    "\n",
    "# Access a specific column\n",
    "content_column = df['Content']\n",
    "\n",
    "# Iterate through rows and print using Rich\n",
    "for index, row in df.iterrows():\n",
    "    console.print(f\"[yellow]Výstup:[/yellow] {row['Post ID']} {row['Content']}\")\n",
    "\n",
    "# Filtering data\n",
    "scheduled_posts = df[df['Status'] == 'Scheduled']\n",
    "print(scheduled_posts)"
   ],
   "metadata": {
    "collapsed": false
   },
   "id": "6c2a0b573771e3ba",
   "execution_count": null
  },
  {
   "cell_type": "code",
   "outputs": [
    {
     "data": {
      "text/plain": "\u001B[36mReading Excel file for scheduled posts\u001B[0m\u001B[36m...\u001B[0m\n",
      "text/html": "<pre style=\"white-space:pre;overflow-x:auto;line-height:normal;font-family:Menlo,'DejaVu Sans Mono',consolas,'Courier New',monospace\"><span style=\"color: #008080; text-decoration-color: #008080\">Reading Excel file for scheduled posts...</span>\n</pre>\n"
     },
     "metadata": {},
     "output_type": "display_data"
    },
    {
     "name": "stdout",
     "output_type": "stream",
     "text": [
      "   Post ID   Platform                            Content Image Path  \\\n",
      "0      2.0  Instagram  Check out our new... Instagram...       img1   \n",
      "1      NaN   Facebook   Check out our new... Facebook...       img1   \n",
      "4      3.0  Instagram  Check out our new... Instagram...       img1   \n",
      "5      NaN   Facebook   Check out our new... Facebook...       img1   \n",
      "\n",
      "            Hashtags      Scheduled Time     Status  Remarks  \n",
      "0  #new #tech #insta 2024-01-14 12:00:00  Scheduled      NaN  \n",
      "1   #new #tech #fcbk 2024-01-14 12:05:00  Scheduled      NaN  \n",
      "4  #new #tech #insta 2024-01-14 12:00:00  Scheduled      NaN  \n",
      "5   #new #tech #fcbk 2024-01-14 12:05:00  Scheduled      NaN  \n"
     ]
    }
   ],
   "source": [
    "from apscheduler.schedulers.background import BackgroundScheduler\n",
    "from scheduler.scheduler import read_schedule_for_next_day\n",
    "from rich.console import Console\n",
    "import os\n",
    "\n",
    "DEBUG = True\n",
    "# Initialize Rich console\n",
    "console = Console()\n",
    "\n",
    "# Path to your Excel file\n",
    "excel_file = 'plan.xlsx'\n",
    "\n",
    "# Function to be called by the scheduler\n",
    "def scheduled_reading():\n",
    "    console.print(f\"[cyan]Reading Excel file for scheduled posts...[/cyan]\")\n",
    "    scheduled_posts = read_schedule_for_next_day(excel_file)\n",
    "    print(scheduled_posts)\n",
    "    # Here you can add logic to handle these scheduled posts\n",
    "\n",
    "# Initialize the scheduler\n",
    "scheduler = BackgroundScheduler()\n",
    "\n",
    "# Schedule to read Excel file every day at 23:00\n",
    "scheduler.add_job(scheduled_reading, 'cron', hour=23, minute=0)\n",
    "\n",
    "# Start the scheduler\n",
    "scheduler.start()\n",
    "\n",
    "# Debug mode: read Excel file immediately for testing\n",
    "if DEBUG:\n",
    "    scheduled_reading()\n",
    "else:\n",
    "    try:\n",
    "        # This will keep the script running indefinitely while the scheduler runs in the background\n",
    "        scheduler._event.wait()\n",
    "    except (KeyboardInterrupt, SystemExit):\n",
    "        # Not strictly necessary if you're shutting down the whole script anyway\n",
    "        scheduler.shutdown()\n"
   ],
   "metadata": {
    "collapsed": false,
    "ExecuteTime": {
     "end_time": "2024-01-13T18:40:19.177860500Z",
     "start_time": "2024-01-13T18:40:17.916620200Z"
    }
   },
   "id": "15d3032f0a71cfb9",
   "execution_count": 1
  },
  {
   "cell_type": "code",
   "outputs": [],
   "source": [
    "from apscheduler.schedulers.background import BackgroundScheduler\n",
    "from scheduler.scheduler import read_schedule_for_next_day\n",
    "from rich.console import Console\n",
    "import pandas as pd\n",
    "from datetime import datetime, timedelta\n",
    "import os\n",
    "\n",
    "DEBUG = True\n",
    "# Initialize Rich console\n",
    "console = Console()\n",
    "\n",
    "# Path to your Excel file\n",
    "excel_file = 'plan.xlsx'\n",
    "\n",
    "def read_schedule_for_next_day(excel_file):\n",
    "    # Read the Excel file\n",
    "    df = pd.read_excel(excel_file)\n",
    "\n",
    "    # Get current date and next date\n",
    "    current_date = datetime.now().date()\n",
    "    next_date = current_date + timedelta(days=1)\n",
    "\n",
    "    day_posts = df[(df['Scheduled Time'].dt.date == next_date)]\n",
    "    print(day_posts)\n",
    "\n",
    "    # Filter posts scheduled for the next day\n",
    "    next_day_posts = df[(df['Scheduled Time'].dt.date == next_date) & (df['Status'] == 'Scheduled')]\n",
    "    print(\"nEXT\", next_day_posts)\n",
    "    return next_day_posts\n",
    "\n",
    "scheduled_posts = read_schedule_for_next_day(excel_file)\n",
    "print(\"-----\")\n",
    "print(scheduled_posts)"
   ],
   "metadata": {
    "collapsed": false
   },
   "id": "99830fb9917d6fe4",
   "execution_count": null
  },
  {
   "cell_type": "code",
   "outputs": [],
   "source": [],
   "metadata": {
    "collapsed": false
   },
   "id": "5dc2e9f3dcdd9a60"
  }
 ],
 "metadata": {
  "kernelspec": {
   "display_name": "Python 3",
   "language": "python",
   "name": "python3"
  },
  "language_info": {
   "codemirror_mode": {
    "name": "ipython",
    "version": 2
   },
   "file_extension": ".py",
   "mimetype": "text/x-python",
   "name": "python",
   "nbconvert_exporter": "python",
   "pygments_lexer": "ipython2",
   "version": "2.7.6"
  }
 },
 "nbformat": 4,
 "nbformat_minor": 5
}
